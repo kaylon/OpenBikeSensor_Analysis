{
 "cells": [
  {
   "cell_type": "code",
   "execution_count": 1,
   "id": "60769b36-dc98-4968-a1b1-705859781502",
   "metadata": {},
   "outputs": [],
   "source": [
    "import os\n"
   ]
  },
  {
   "cell_type": "code",
   "execution_count": null,
   "id": "b8679a69-bf88-426c-bad7-858c4d80d04f",
   "metadata": {},
   "outputs": [],
   "source": [
    "# exampels and description of this methodology here: https://github.com/vizsim/osm_analyse_strassennamen"
   ]
  },
  {
   "cell_type": "code",
   "execution_count": 3,
   "id": "40a5c308-3725-40c5-bb53-c8912fd8f0ae",
   "metadata": {},
   "outputs": [
    {
     "data": {
      "text/plain": [
       "0"
      ]
     },
     "execution_count": 3,
     "metadata": {},
     "output_type": "execute_result"
    }
   ],
   "source": [
    "#convert from pbf to o5m (for fast filtering)\n",
    "os.system('osmconvert \"../osm_processing/germany-latest.osm_2022.pbf\" -o=\"../osm_processing/germany-latest.osm_2022.o5m\"')"
   ]
  },
  {
   "cell_type": "code",
   "execution_count": 4,
   "id": "cc1a825f-b456-4e85-bc9c-17c8f573c0cc",
   "metadata": {},
   "outputs": [
    {
     "data": {
      "text/plain": [
       "0"
      ]
     },
     "execution_count": 4,
     "metadata": {},
     "output_type": "execute_result"
    }
   ],
   "source": [
    "# filter only relevant highway types from entire osm file\n",
    "#https://wiki.openstreetmap.org/wiki/Key:highway\n",
    "\n",
    "os.system('osmfilter germany-latest.osm_2022.o5m --keep=\"highway=primary =primary_link =secondary =secondary_link =tertiary =tertiary_link =residential =unclassified =road =track =cycleway =footway =path\" -o=highways_germany_zuNah.osm')"
   ]
  },
  {
   "cell_type": "code",
   "execution_count": 6,
   "id": "e1d87c26-3c08-4159-a8db-aad67a534e1a",
   "metadata": {},
   "outputs": [
    {
     "data": {
      "text/plain": [
       "True"
      ]
     },
     "execution_count": 6,
     "metadata": {},
     "output_type": "execute_result"
    }
   ],
   "source": [
    "#convert from o5m to gpkg (to work easier with geopandas later)\n",
    "# .ini is necessary to create columns for distinct attributes\n",
    "\n",
    "import ogr2ogr\n",
    "\n",
    "ogr2ogr.main([\"-overwrite\",\"--config\", \"OSM_CONFIG_FILE\",\"osmconf_radZuNah.ini\",\"-skipfailures\",\"-f\", \"GPKG\", \"highways_germany_zuNah.gpkg\",\"highways_germany_zuNah.osm\"])"
   ]
  },
  {
   "cell_type": "code",
   "execution_count": null,
   "id": "8594f0f0-5e5a-4ceb-8b08-22f932e4206e",
   "metadata": {},
   "outputs": [],
   "source": []
  }
 ],
 "metadata": {
  "kernelspec": {
   "display_name": "Python 3 (ipykernel)",
   "language": "python",
   "name": "python3"
  },
  "language_info": {
   "codemirror_mode": {
    "name": "ipython",
    "version": 3
   },
   "file_extension": ".py",
   "mimetype": "text/x-python",
   "name": "python",
   "nbconvert_exporter": "python",
   "pygments_lexer": "ipython3",
   "version": "3.8.10"
  }
 },
 "nbformat": 4,
 "nbformat_minor": 5
}
